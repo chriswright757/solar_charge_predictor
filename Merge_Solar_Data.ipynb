{
 "cells": [
  {
   "cell_type": "markdown",
   "metadata": {},
   "source": [
    "# Collect and merge data into single CSV"
   ]
  },
  {
   "cell_type": "code",
   "execution_count": 1,
   "metadata": {},
   "outputs": [],
   "source": [
    "from pathlib import Path\n",
    "import pandas as pd \n",
    "from datetime import datetime"
   ]
  },
  {
   "cell_type": "code",
   "execution_count": 2,
   "metadata": {},
   "outputs": [],
   "source": [
    "# Load solar data from files and merge solar data into single dataframe\n",
    "\n",
    "solar_data_path = Path(r\"solar_data_raw\").glob('*.xls')\n",
    "\n",
    "solar_data_files = [x for x in solar_data_path if x.is_file()]\n",
    "\n",
    "solar_data = pd.DataFrame()\n",
    "\n",
    "for file in solar_data_files:\n",
    "  \n",
    "    solar_data = solar_data.append(pd.read_excel(file))\n",
    "\n",
    "solar_data['Time'] =  pd.to_datetime(solar_data['Time'], format=\"%Y-%m-%d %H:%M:%S\")"
   ]
  },
  {
   "cell_type": "code",
   "execution_count": 4,
   "metadata": {},
   "outputs": [],
   "source": [
    "# Load historical weather_data\n",
    "\n",
    "weather_data = pd.read_csv('weather_data_clean.csv', index_col=0)\n",
    "\n",
    "weather_data['Time'] = pd.to_datetime(weather_data['dt_iso'], format=\"%Y-%m-%d %H:%M:%S\")\n",
    "\n",
    "# Drop other datetime coloumns \n",
    "weather_data = weather_data.drop(['dt','dt_iso'], axis=1)"
   ]
  },
  {
   "cell_type": "code",
   "execution_count": null,
   "metadata": {},
   "outputs": [],
   "source": [
    "# Join solar data for weather data \n",
    "\n",
    "combined_data = pd.merge_asof(weather_data, solar_data.sort_values('Time'), left_on='Time', right_on='Time', direction='nearest', tolerance=pd.Timedelta(\"600s\"))\n",
    "\n",
    "# Drop rows with missing data\n",
    "\n",
    "combined_data = combined_data.dropna(subset=['ePv1Day'])\n",
    "\n",
    "combined_data = combined_data.drop(['sea_level','grnd_level', 'rain_1h', 'rain_3h', 'snow_1h', 'snow_3h'],axis=1)\n",
    "\n",
    "# Sum energy output from each solar array to calculate total solar energy\n",
    "\n",
    "combined_data['Solar Energy'] = combined_data['ePv1Day'] + combined_data['ePv2Day'] "
   ]
  },
  {
   "cell_type": "code",
   "execution_count": null,
   "metadata": {},
   "outputs": [],
   "source": [
    "# Create day averaged dataframe from combined dataframe\n",
    "\n",
    "combined_data['date'] = combined_data['Time'].dt.date\n",
    "\n",
    "day_df = combined_data.groupby('date').agg(\n",
    "    temp_mean = ('temp','mean'), \n",
    "    temp_max = ('temp_max','max'), \n",
    "    temp_min = ('temp_min','min'), \n",
    "    pressure_mean = ('pressure','mean'),\n",
    "    pressure_min = ('pressure','min'),\n",
    "    pressure_max = ('pressure','max'),\n",
    "    humidity_mean = ('humidity', 'mean'),\n",
    "    humidity_min = ('humidity', 'min'),\n",
    "    humidity_max = ('humidity', 'max'),\n",
    "    wind_speed_mean = ('wind_speed', 'mean'),\n",
    "    wind_speed_min = ('wind_speed', 'min'),\n",
    "    wind_speed_max = ('wind_speed', 'max'),\n",
    "    wind_deg_mean = ('wind_deg', 'mean'),\n",
    "    wind_deg_min = ('wind_deg', 'min'),\n",
    "    wind_deg_max = ('wind_deg', 'max'),\n",
    "    clouds_all_mean = ('clouds_all', 'mean'),\n",
    "    clouds_all_min = ('clouds_all', 'min'),\n",
    "    clouds_all_max = ('clouds_all', 'max'),\n",
    "    weather_id_mode = ('weather_id', lambda x: x.value_counts().index[0]),\n",
    "    total_solar = ('Solar Energy','max')\n",
    "    ).reset_index()\n",
    "\n",
    "day_df.date = pd.to_datetime(day_df['date'], format=\"%Y-%m-%d\")\n",
    "\n",
    "day_df['date'] = pd.to_datetime(day_df['date'])\n",
    "day_df['Day'] = day_df['date'].apply(lambda x: (x.to_pydatetime().date() - datetime(x.to_pydatetime().year, 1,1 ).date()))\n",
    "day_df['Day'] = day_df['Day'].dt.days\n",
    "\n",
    "day_df.to_csv('day_averaged.csv', index=False)"
   ]
  }
 ],
 "metadata": {
  "interpreter": {
   "hash": "c72a629dba5ae9edebcad565c17c3988d814021371aabb3db62cb04d2b10dbfe"
  },
  "kernelspec": {
   "display_name": "Python 3.8.8 64-bit ('base': conda)",
   "name": "python3"
  },
  "language_info": {
   "codemirror_mode": {
    "name": "ipython",
    "version": 3
   },
   "file_extension": ".py",
   "mimetype": "text/x-python",
   "name": "python",
   "nbconvert_exporter": "python",
   "pygments_lexer": "ipython3",
   "version": "3.8.8"
  },
  "orig_nbformat": 4
 },
 "nbformat": 4,
 "nbformat_minor": 2
}
